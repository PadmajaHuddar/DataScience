{
 "cells": [
  {
   "cell_type": "code",
   "execution_count": 545,
   "metadata": {},
   "outputs": [],
   "source": [
    "from sklearn.datasets import fetch_20newsgroups\n",
    "from sklearn.feature_extraction.text import CountVectorizer\n",
    "from sklearn.feature_extraction.text import TfidfTransformer\n",
    "from sklearn.naive_bayes import MultinomialNB\n",
    "from sklearn.pipeline import Pipeline\n",
    "import numpy as np\n",
    "from sklearn import metrics\n",
    "from sklearn.svm import LinearSVC"
   ]
  },
  {
   "cell_type": "code",
   "execution_count": 546,
   "metadata": {},
   "outputs": [
    {
     "data": {
      "text/plain": [
       "['alt.atheism', 'comp.graphics', 'sci.med', 'soc.religion.christian']"
      ]
     },
     "execution_count": 546,
     "metadata": {},
     "output_type": "execute_result"
    }
   ],
   "source": [
    "categories = ['alt.atheism', 'soc.religion.christian', 'comp.graphics', 'sci.med']\n",
    "twenty_train = fetch_20newsgroups(data_home=None, subset='train', categories=categories, shuffle=True, random_state=42, remove=(), download_if_missing=True)\n",
    "twenty_train.target_names"
   ]
  },
  {
   "cell_type": "code",
   "execution_count": 547,
   "metadata": {},
   "outputs": [
    {
     "data": {
      "text/plain": [
       "(2257, 35788)"
      ]
     },
     "execution_count": 547,
     "metadata": {},
     "output_type": "execute_result"
    }
   ],
   "source": [
    "count_vect = CountVectorizer()\n",
    "X_train_counts = count_vect.fit_transform(twenty_train.data)\n",
    "X_train_counts.shape"
   ]
  },
  {
   "cell_type": "code",
   "execution_count": 548,
   "metadata": {},
   "outputs": [
    {
     "data": {
      "text/plain": [
       "(2257, 35788)"
      ]
     },
     "execution_count": 548,
     "metadata": {},
     "output_type": "execute_result"
    }
   ],
   "source": [
    "tfidf_transformer = TfidfTransformer()\n",
    "X_train_tfidf = tfidf_transformer.fit_transform(X_train_counts)\n",
    "X_train_tfidf.shape"
   ]
  },
  {
   "cell_type": "code",
   "execution_count": 549,
   "metadata": {},
   "outputs": [],
   "source": [
    "#clf = MultinomialNB().fit(twenty_train.data, twenty_train.target)\n",
    "#clf = LinearSVC().fit(X_train_tfidf, twenty_train.target)\n",
    "#twenty_test = fetch_20newsgroups(subset='test', shuffle=True)\n",
    "#predicted = clf.predict(twenty_test.data)\n",
    "#np.mean(predicted == twenty_test.target)\n",
    "#print(clf)"
   ]
  },
  {
   "cell_type": "code",
   "execution_count": 550,
   "metadata": {},
   "outputs": [
    {
     "name": "stdout",
     "output_type": "stream",
     "text": [
      "Accuracy with Multinomial Naive Bayes:  0.8894806924101198\n"
     ]
    }
   ],
   "source": [
    "text_clf = Pipeline([('vect', CountVectorizer(stop_words='english')), ('tfidf', TfidfTransformer()), ('clf', MultinomialNB())])\n",
    "text_clf = text_clf.fit(twenty_train.data, twenty_train.target)\n",
    "twenty_test = fetch_20newsgroups(subset='test', categories=categories, shuffle=True, random_state=42)\n",
    "data_test = twenty_test.data\n",
    "predicted = text_clf.predict(data_test)\n",
    "print(\"Accuracy with Multinomial Naive Bayes: \", np.mean(predicted == twenty_test.target))"
   ]
  },
  {
   "cell_type": "code",
   "execution_count": 551,
   "metadata": {
    "scrolled": true
   },
   "outputs": [
    {
     "name": "stdout",
     "output_type": "stream",
     "text": [
      "Results for Multinomial Naive Bayes:\n",
      "                         precision    recall  f1-score   support\n",
      "\n",
      "           alt.atheism       0.97      0.72      0.83       319\n",
      "         comp.graphics       0.95      0.95      0.95       389\n",
      "               sci.med       0.95      0.88      0.92       396\n",
      "soc.religion.christian       0.76      0.97      0.85       398\n",
      "\n",
      "           avg / total       0.90      0.89      0.89      1502\n",
      "\n"
     ]
    }
   ],
   "source": [
    "print(\"Results for Multinomial Naive Bayes:\\n\",metrics.classification_report(twenty_test.target, predicted, target_names=twenty_test.target_names))"
   ]
  },
  {
   "cell_type": "code",
   "execution_count": 552,
   "metadata": {
    "scrolled": true
   },
   "outputs": [
    {
     "name": "stdout",
     "output_type": "stream",
     "text": [
      "Accuracy with Linear Support Vector Classification:  0.9234354194407457\n"
     ]
    }
   ],
   "source": [
    "text_clf = Pipeline([('vect', CountVectorizer(stop_words='english')), ('tfidf', TfidfTransformer()), ('clf', LinearSVC(loss='hinge', penalty='l2', random_state=42, max_iter=5))])\n",
    "text_clf = text_clf.fit(twenty_train.data, twenty_train.target)\n",
    "twenty_test = fetch_20newsgroups(subset='test', categories=categories, shuffle=True, random_state=42)\n",
    "data_test = twenty_test.data\n",
    "predicted = text_clf.predict(data_test)\n",
    "print(\"Accuracy with Linear Support Vector Classification: \", np.mean(predicted == twenty_test.target))"
   ]
  },
  {
   "cell_type": "code",
   "execution_count": 553,
   "metadata": {
    "scrolled": true
   },
   "outputs": [
    {
     "name": "stdout",
     "output_type": "stream",
     "text": [
      "Results for LinearSVC:\n",
      "                         precision    recall  f1-score   support\n",
      "\n",
      "           alt.atheism       0.96      0.82      0.88       319\n",
      "         comp.graphics       0.89      0.98      0.94       389\n",
      "               sci.med       0.95      0.91      0.93       396\n",
      "soc.religion.christian       0.90      0.96      0.93       398\n",
      "\n",
      "           avg / total       0.93      0.92      0.92      1502\n",
      "\n"
     ]
    }
   ],
   "source": [
    "print(\"Results for LinearSVC:\\n\",metrics.classification_report(twenty_test.target, predicted, target_names=twenty_test.target_names))"
   ]
  }
 ],
 "metadata": {
  "kernelspec": {
   "display_name": "Python 3",
   "language": "python",
   "name": "python3"
  },
  "language_info": {
   "codemirror_mode": {
    "name": "ipython",
    "version": 3
   },
   "file_extension": ".py",
   "mimetype": "text/x-python",
   "name": "python",
   "nbconvert_exporter": "python",
   "pygments_lexer": "ipython3",
   "version": "3.6.4"
  }
 },
 "nbformat": 4,
 "nbformat_minor": 2
}
